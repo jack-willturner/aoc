{
 "metadata": {
  "language_info": {
   "codemirror_mode": {
    "name": "ipython",
    "version": 3
   },
   "file_extension": ".py",
   "mimetype": "text/x-python",
   "name": "python",
   "nbconvert_exporter": "python",
   "pygments_lexer": "ipython3",
   "version": "3.7.4-final"
  },
  "orig_nbformat": 2,
  "kernelspec": {
   "name": "python3",
   "display_name": "Python 3",
   "language": "python"
  }
 },
 "nbformat": 4,
 "nbformat_minor": 2,
 "cells": [
  {
   "cell_type": "code",
   "execution_count": 1,
   "metadata": {
    "tags": []
   },
   "outputs": [
    {
     "output_type": "stream",
     "name": "stderr",
     "text": [
      "  0%|          | 0/100 [00:00<?, ?it/s]Starting FFT\n",
      "100%|██████████| 100/100 [00:50<00:00,  1.99it/s]\n"
     ]
    }
   ],
   "source": [
    "from functools import lru_cache\n",
    "from tqdm import tqdm \n",
    "\n",
    "with open('inputs/16','r') as f:\n",
    "    signal = [int(char) for char in f.read()]\n",
    "    signal = signal #* 10000\n",
    "    signal = signal[:8]\n",
    "\n",
    "def gen_pattern(index, len_seq):\n",
    "    pattern = [0]*index + [1]*index + [0]*index + [-1]*index\n",
    "    \n",
    "    while(len(pattern) < len_seq):\n",
    "        pattern = pattern*10\n",
    "    \n",
    "    pattern = pattern[:len_seq+1]\n",
    "    return pattern[1:]\n",
    "\n",
    "\n",
    "for phase in tqdm(range(100)):\n",
    "    new_signal = [s for s in signal]\n",
    "\n",
    "    for i, _ in enumerate(signal):\n",
    "        acc = 0\n",
    "        pattern = gen_pattern(i+1, len(signal))\n",
    "        for j,k in zip(signal, pattern):\n",
    "            acc+= j*k\n",
    "        new_signal[i] = acc\n",
    "\n",
    "    # get ones digit\n",
    "    signal = [int(str(s)[-1]) for s in new_signal]"
   ]
  },
  {
   "cell_type": "code",
   "execution_count": 2,
   "metadata": {},
   "outputs": [
    {
     "output_type": "stream",
     "name": "stdout",
     "text": [
      "[5, 8, 4, 4, 9, 0, 8, 8]\n"
     ]
    }
   ],
   "source": [
    "print(signal[:8])"
   ]
  },
  {
   "cell_type": "code",
   "execution_count": null,
   "metadata": {},
   "outputs": [],
   "source": []
  }
 ]
}