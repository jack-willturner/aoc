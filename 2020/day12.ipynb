{
 "metadata": {
  "language_info": {
   "codemirror_mode": {
    "name": "ipython",
    "version": 3
   },
   "file_extension": ".py",
   "mimetype": "text/x-python",
   "name": "python",
   "nbconvert_exporter": "python",
   "pygments_lexer": "ipython3",
   "version": "3.7.4-final"
  },
  "orig_nbformat": 2,
  "kernelspec": {
   "name": "python3",
   "display_name": "Python 3",
   "language": "python"
  }
 },
 "nbformat": 4,
 "nbformat_minor": 2,
 "cells": [
  {
   "source": [
    "# Day 12 \n",
    "\n",
    "I read on the subreddit that complex numbers are a neater way to do this problem so I'm figuring that out here."
   ],
   "cell_type": "markdown",
   "metadata": {}
  },
  {
   "cell_type": "code",
   "execution_count": 1,
   "metadata": {},
   "outputs": [],
   "source": [
    "with open(\"inputs/day12\") as f:\n",
    "    instructions = [(line[0], int(line[1:])) for line in f]"
   ]
  },
  {
   "source": [
    "## Part 1"
   ],
   "cell_type": "markdown",
   "metadata": {}
  },
  {
   "cell_type": "code",
   "execution_count": 2,
   "metadata": {},
   "outputs": [
    {
     "output_type": "stream",
     "name": "stdout",
     "text": [
      "1133.0\n"
     ]
    }
   ],
   "source": [
    "def step(instr, pos, dir):\n",
    "    i, scale = instr\n",
    "    if i in \"NESWF\":\n",
    "        delta = {'N': 1j, 'E': 1, 'S':-1j, 'W':-1, 'F': dir}[i] * scale\n",
    "        return pos + delta, dir\n",
    "    else:\n",
    "        return pos, dir*(-1j)**(scale// ((1 if i=='R' else -1)*90)) \n",
    "\n",
    "pos, dir = 0, 1\n",
    "for instr in instructions:\n",
    "    pos, dir = step(instr, pos, dir)\n",
    "\n",
    "print(abs(pos.real) + abs(pos.imag))"
   ]
  },
  {
   "source": [
    "## Part 2  \n"
   ],
   "cell_type": "markdown",
   "metadata": {}
  },
  {
   "cell_type": "code",
   "execution_count": 3,
   "metadata": {},
   "outputs": [
    {
     "output_type": "execute_result",
     "data": {
      "text/plain": [
       "(-1+10j)"
      ]
     },
     "metadata": {},
     "execution_count": 3
    }
   ],
   "source": [
    "import numpy as np\n",
    "\n",
    "scale = 90 # L 90 ###-> should be -1,+10j\n",
    "dir = 10+1j \n",
    "\n",
    "dir * round(np.exp(1j * (scale * (np.pi/180))))"
   ]
  },
  {
   "cell_type": "code",
   "execution_count": null,
   "metadata": {},
   "outputs": [],
   "source": []
  }
 ]
}