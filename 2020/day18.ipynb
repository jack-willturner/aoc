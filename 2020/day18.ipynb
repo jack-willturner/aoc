{
 "metadata": {
  "language_info": {
   "codemirror_mode": {
    "name": "ipython",
    "version": 3
   },
   "file_extension": ".py",
   "mimetype": "text/x-python",
   "name": "python",
   "nbconvert_exporter": "python",
   "pygments_lexer": "ipython3",
   "version": "3.7.4-final"
  },
  "orig_nbformat": 2,
  "kernelspec": {
   "name": "python3",
   "display_name": "Python 3",
   "language": "python"
  }
 },
 "nbformat": 4,
 "nbformat_minor": 2,
 "cells": [
  {
   "cell_type": "code",
   "execution_count": 4,
   "metadata": {
    "tags": []
   },
   "outputs": [
    {
     "output_type": "execute_result",
     "data": {
      "text/plain": [
       "62557214310592"
      ]
     },
     "metadata": {},
     "execution_count": 4
    }
   ],
   "source": [
    "import re\n",
    "import queue\n",
    "import itertools\n",
    "\n",
    "exprs = []\n",
    "\n",
    "# 1 * 2 + 3 => 5\n",
    "# 1 * 5 => \n",
    "\n",
    "with open(\"inputs/day18\") as f:\n",
    "    for line in f:\n",
    "        exprs.append(line.replace('\\n',''))\n",
    "\n",
    "def eval_expr(s, give_precedence=False):\n",
    "    nums = re.findall(r\"[0-9]+\", s)\n",
    "    ops  = re.findall(r\"[\\+\\*]\", s)\n",
    "    if not give_precedence:\n",
    "        for i, (n1, n2) in enumerate(zip(nums, nums[1:])):\n",
    "            nums[i+1] = eval(f\"{n1} {ops[i]} {n2}\")\n",
    "    else:\n",
    "        s = re.sub(r\"[0-9]+\\+[0-9]+\", lambda x: str(eval_expr(x[0])), s)\n",
    "        return eval_expr(s)\n",
    "    \n",
    "    return nums[-1]\n",
    "\n",
    "acc = 0\n",
    "for s in exprs:\n",
    "    s = s.replace(' ','')\n",
    "    while('(' in s):\n",
    "        s = re.sub(r\"\\([0-9]+[\\+\\*][0-9]+([\\+\\*]+[0-9]+)*\\)\"+\n",
    "                    r\"|\\([0-9]+[\\+\\*][0-9]+[[\\+\\*] +[0-9]+]*\\)\", lambda x: str(eval_expr(x[0], give_precedence=True)) , s)\n",
    "    acc += eval_expr(s)\n",
    "\n",
    "acc"
   ]
  },
  {
   "source": [
    "62557214310592 is too low"
   ],
   "cell_type": "markdown",
   "metadata": {}
  }
 ]
}