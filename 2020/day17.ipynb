{
 "metadata": {
  "language_info": {
   "codemirror_mode": {
    "name": "ipython",
    "version": 3
   },
   "file_extension": ".py",
   "mimetype": "text/x-python",
   "name": "python",
   "nbconvert_exporter": "python",
   "pygments_lexer": "ipython3",
   "version": "3.7.4-final"
  },
  "orig_nbformat": 2,
  "kernelspec": {
   "name": "python3",
   "display_name": "Python 3",
   "language": "python"
  }
 },
 "nbformat": 4,
 "nbformat_minor": 2,
 "cells": [
  {
   "cell_type": "code",
   "execution_count": 1,
   "metadata": {},
   "outputs": [
    {
     "output_type": "execute_result",
     "data": {
      "text/plain": [
       "1952"
      ]
     },
     "metadata": {},
     "execution_count": 1
    }
   ],
   "source": [
    "from collections import namedtuple, defaultdict\n",
    "import numpy as np\n",
    "\n",
    "Point = namedtuple(\"Point\",\"x y z w\")\n",
    "    \n",
    "grid = defaultdict(lambda: '.')\n",
    "z = 0\n",
    "w = 0\n",
    "\n",
    "with open(\"inputs/day17\") as f:\n",
    "    y = 0\n",
    "    for line in f:\n",
    "        line = line.strip()\n",
    "        x = 0   \n",
    "        for r in line:\n",
    "            p = Point(x,y,z,w)\n",
    "            grid[p] = r\n",
    "            x += 1\n",
    "        y += 1 \n",
    "\n",
    "def neighbours(point):\n",
    "    n = []\n",
    "    for x in range(-1,2):\n",
    "        for y in range(-1,2):\n",
    "            for z in range(-1,2):\n",
    "                for w in range(-1,2):\n",
    "                    if not (x == 0 and y == 0 and z == 0 and w == 0):\n",
    "                        n.append(Point(point.x+x, point.y+y, point.z+z, point.w+w))\n",
    "    return n\n",
    "\n",
    "def num_active_neighbours(point, grid):\n",
    "    n = neighbours(point)\n",
    "    tot = 0\n",
    "    for neighbour in n:\n",
    "        if grid.get(neighbour, '.') == '#':\n",
    "            tot += 1\n",
    "    return tot\n",
    "\n",
    "for cycles in range(6):\n",
    "    new_state = {}\n",
    "\n",
    "    visit = set()\n",
    "    for point in list(grid.keys()):\n",
    "        for p in neighbours(point):\n",
    "            if grid.get(p, None) is None:\n",
    "                grid[p] = '.'\n",
    "            visit.add(p)\n",
    "\n",
    "    for point in visit:\n",
    "        n_active_neighbours = num_active_neighbours(point, grid)\n",
    "        state = grid[point]\n",
    "        if state == '#':   \n",
    "            if n_active_neighbours in [2,3]:\n",
    "                new_state[point] = '#'\n",
    "            else:\n",
    "                new_state[point] = '.'\n",
    "        else:\n",
    "            if n_active_neighbours == 3:\n",
    "                new_state[point] = '#'\n",
    "            else:\n",
    "                new_state[point] = '.'\n",
    "    grid = new_state\n",
    "\n",
    "#print_grid(grid)\n",
    "sum([1 if s == '#' else 0 for s in grid.values()])"
   ]
  },
  {
   "cell_type": "code",
   "execution_count": null,
   "metadata": {},
   "outputs": [],
   "source": [
    "def print_grid(grid):\n",
    "    width  = max([c.x for c in grid.keys()]) - min([c.x for c in grid.keys()]) + 1\n",
    "    height = max([c.y for c in grid.keys()]) - min([c.x for c in grid.keys()]) + 1\n",
    "    layers = max([c.z for c in grid.keys()]) - min([c.z for c in grid.keys()])  + 1\n",
    "\n",
    "    floorplan = np.empty((layers, height, width), dtype=np.string_)\n",
    "\n",
    "    for (x,y,z) in grid.keys():        \n",
    "        state = grid[Point(x,y,z)]\n",
    "        floorplan[z+1,y,x] = state\n",
    "\n",
    "    print(floorplan.shape)\n",
    "\n",
    "    for layer in floorplan:\n",
    "        for line in layer:\n",
    "            stri = ''\n",
    "            for char in line:\n",
    "                stri = stri + char.decode('UTF-8')\n",
    "            print(stri)\n",
    "        print()\n",
    "\n",
    "#print_grid(grid)"
   ]
  }
 ]
}