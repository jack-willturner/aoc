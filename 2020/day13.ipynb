{
 "metadata": {
  "language_info": {
   "codemirror_mode": {
    "name": "ipython",
    "version": 3
   },
   "file_extension": ".py",
   "mimetype": "text/x-python",
   "name": "python",
   "nbconvert_exporter": "python",
   "pygments_lexer": "ipython3",
   "version": "3.7.4-final"
  },
  "orig_nbformat": 2,
  "kernelspec": {
   "name": "python3",
   "display_name": "Python 3",
   "language": "python"
  }
 },
 "nbformat": 4,
 "nbformat_minor": 2,
 "cells": [
  {
   "cell_type": "code",
   "execution_count": 1,
   "metadata": {},
   "outputs": [
    {
     "output_type": "execute_result",
     "data": {
      "text/plain": [
       "3464"
      ]
     },
     "metadata": {},
     "execution_count": 1
    }
   ],
   "source": [
    "from math import ceil \n",
    "\n",
    "ls = []\n",
    "with open(\"inputs/day13\") as f:\n",
    "    for line in f:\n",
    "        ls.append(line.replace('\\n',''))\n",
    "\n",
    "eta = int(ls[0])\n",
    "buses = [int(x) for x in ls[1].split(',') if x != 'x']\n",
    "\n",
    "bus_scale = [ceil(eta/x) for x in buses]\n",
    "\n",
    "times = [(t,t*s) for t,s in zip(buses, bus_scale)]\n",
    "times = sorted(times, key=lambda x: x[1])\n",
    "\n",
    "bus_id, time = times[0]\n",
    "(time - eta) * bus_id"
   ]
  },
  {
   "cell_type": "code",
   "execution_count": 2,
   "metadata": {},
   "outputs": [
    {
     "output_type": "execute_result",
     "data": {
      "text/plain": [
       "[(0, '17'),\n",
       " (7, '41'),\n",
       " (17, '643'),\n",
       " (25, '23'),\n",
       " (30, '13'),\n",
       " (46, '29'),\n",
       " (48, '433'),\n",
       " (54, '37'),\n",
       " (67, '19')]"
      ]
     },
     "metadata": {},
     "execution_count": 2
    }
   ],
   "source": [
    "import numpy as np\n",
    "\n",
    "ls = []\n",
    "with open(\"inputs/day13\") as f:\n",
    "    for line in f:\n",
    "        ls.append(line.replace('\\n',''))\n",
    "\n",
    "buses = [(i,x) for i, x in enumerate(ls[1].split(','))]\n",
    "\n",
    "buses = [x for x in buses if x[1] != 'x']\n",
    "buses"
   ]
  },
  {
   "cell_type": "code",
   "execution_count": 3,
   "metadata": {},
   "outputs": [
    {
     "output_type": "execute_result",
     "data": {
      "text/plain": [
       "array([0.33333333, 0.4       ])"
      ]
     },
     "metadata": {},
     "execution_count": 3
    }
   ],
   "source": [
    "a = np.array([[3,0],\n",
    "              [0,5]])\n",
    "\n",
    "t = np.array([1,2])\n",
    "np.linalg.solve(a,t) "
   ]
  },
  {
   "cell_type": "code",
   "execution_count": 4,
   "metadata": {},
   "outputs": [
    {
     "output_type": "stream",
     "name": "stdout",
     "text": [
      "[0, 34, 626, -2, -17, -17, 385, -17, -48]\nx is  760171380521445\n"
     ]
    }
   ],
   "source": [
    "def inv(a, m) : \n",
    "      \n",
    "    m0 = m \n",
    "    x0 = 0\n",
    "    x1 = 1\n",
    "  \n",
    "    if (m == 1) : \n",
    "        return 0\n",
    "  \n",
    "    # Apply extended Euclid Algorithm \n",
    "    while (a > 1) : \n",
    "        # q is quotient \n",
    "        q = a // m \n",
    "  \n",
    "        t = m \n",
    "  \n",
    "        # m is remainder now, process  \n",
    "        # same as euclid's algo \n",
    "        m = a % m \n",
    "        a = t \n",
    "  \n",
    "        t = x0 \n",
    "  \n",
    "        x0 = x1 - q * x0 \n",
    "  \n",
    "        x1 = t \n",
    "      \n",
    "    # Make x1 positive \n",
    "    if (x1 < 0) : \n",
    "        x1 = x1 + m0 \n",
    "  \n",
    "    return x1 \n",
    "  \n",
    "def findMinX(num, rem, k) : \n",
    "      \n",
    "    # Compute product of all numbers \n",
    "    prod = 1\n",
    "    for i in range(0, k) : \n",
    "        prod = prod * num[i] \n",
    "  \n",
    "    # Initialize result \n",
    "    result = 0\n",
    "  \n",
    "    # Apply above formula \n",
    "    for i in range(0,k): \n",
    "        pp = prod // num[i] \n",
    "        result = result + rem[i] * inv(pp, num[i]) * pp \n",
    "      \n",
    "      \n",
    "    return result % prod \n",
    "  \n",
    "# Driver method \n",
    "num = [int(x[1]) for x in buses]\n",
    "rem = [(int(x[1])-int(x[0])) for x in buses]\n",
    "rem[0] = 0\n",
    "print(rem)\n",
    "k = len(num) \n",
    "print( \"x is \" , findMinX(num, rem, k)) \n"
   ]
  }
 ]
}